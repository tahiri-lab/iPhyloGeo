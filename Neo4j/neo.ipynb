{
 "cells": [
  {
   "cell_type": "code",
   "execution_count": null,
   "id": "4eac7792-7994-47a0-9fc8-545ff40b7740",
   "metadata": {},
   "outputs": [],
   "source": [
    "pip install python-dotenv\n",
    "pip install py2neo"
   ]
  },
  {
   "cell_type": "code",
   "execution_count": 1,
   "id": "e7c34f94-8594-476a-9589-7388ad55a1f8",
   "metadata": {},
   "outputs": [],
   "source": [
    "from neo4j import GraphDatabase\n",
    "from dotenv import load_dotenv\n",
    "import os\n",
    "from py2neo import Graph"
   ]
  },
  {
   "cell_type": "code",
   "execution_count": 16,
   "id": "bc72cb57-0017-4ca3-9dae-d15f6e419d65",
   "metadata": {},
   "outputs": [],
   "source": [
    "from py2neo import Node, Relationship\n",
    "from datetime import datetime"
   ]
  },
  {
   "cell_type": "code",
   "execution_count": null,
   "id": "91afb393-5140-455f-936a-ff5f49103bb8",
   "metadata": {},
   "outputs": [],
   "source": []
  },
  {
   "cell_type": "markdown",
   "id": "fa7fa91f-51f4-4a73-ab2b-24f3cbc7aa77",
   "metadata": {},
   "source": [
    "## Getting Connected"
   ]
  },
  {
   "cell_type": "code",
   "execution_count": 2,
   "id": "e49549b7-770c-4084-8a72-919e71b15c28",
   "metadata": {},
   "outputs": [],
   "source": [
    "load_dotenv(\"my.env\")\n",
    "password= os.getenv(\"NEO_PASS\")"
   ]
  },
  {
   "cell_type": "code",
   "execution_count": 3,
   "id": "904eb25e-952a-49f9-b00c-343724340e0f",
   "metadata": {},
   "outputs": [
    {
     "data": {
      "text/plain": [
       "str"
      ]
     },
     "execution_count": 3,
     "metadata": {},
     "output_type": "execute_result"
    }
   ],
   "source": [
    "type(password)"
   ]
  },
  {
   "cell_type": "markdown",
   "id": "6804b14e-5c2c-49bf-9d8f-d4ed79ee2662",
   "metadata": {},
   "source": [
    "### Using py2neo"
   ]
  },
  {
   "cell_type": "code",
   "execution_count": 8,
   "id": "4f4f83e0-8b50-43f4-857c-2723f4bc83b4",
   "metadata": {},
   "outputs": [
    {
     "name": "stdout",
     "output_type": "stream",
     "text": [
      " count(n) \n",
      "----------\n",
      "   113722 \n",
      "\n"
     ]
    }
   ],
   "source": [
    "graph = Graph(\"neo4j+ssc://2bb60b41.databases.neo4j.io:7687\", auth=(\"neo4j\", password), routing=True)\n",
    "print(graph.run(\"MATCH (n) RETURN count(n)\"))"
   ]
  },
  {
   "cell_type": "code",
   "execution_count": null,
   "id": "875a9cb0-fefb-4cf8-b29d-3e9207b05d72",
   "metadata": {},
   "outputs": [],
   "source": []
  },
  {
   "cell_type": "code",
   "execution_count": null,
   "id": "9e66cfb4-250e-4481-93ba-b1f9d4bd8939",
   "metadata": {},
   "outputs": [],
   "source": []
  },
  {
   "cell_type": "markdown",
   "id": "f873608d-4f5b-44cb-bfa9-8149b8dede06",
   "metadata": {},
   "source": [
    "### Using neo4j"
   ]
  },
  {
   "cell_type": "markdown",
   "id": "323c4465-abaa-4a78-8899-7ddb84e6d287",
   "metadata": {},
   "source": [
    "\n",
    "driver = GraphDatabase.driver(\"neo4j://2bb60b41.databases.neo4j.io:7687\",\n",
    "    auth=(\"neo4j\", password))"
   ]
  },
  {
   "cell_type": "code",
   "execution_count": 9,
   "id": "59385de1-58c6-4190-a274-9f9a63a88be8",
   "metadata": {},
   "outputs": [],
   "source": [
    "\n",
    "driver = GraphDatabase.driver(\"neo4j+ssc://2bb60b41.databases.neo4j.io:7687\",\n",
    "    auth=(\"neo4j\", password))\n"
   ]
  },
  {
   "cell_type": "code",
   "execution_count": 10,
   "id": "452a519f-2e9f-4cc9-a1c4-435db3d87fbc",
   "metadata": {},
   "outputs": [],
   "source": [
    "#Verify the connection details\n",
    "driver.verify_connectivity()"
   ]
  },
  {
   "cell_type": "code",
   "execution_count": null,
   "id": "1fe3a0eb-6cb0-407d-af76-6262f2ae2f20",
   "metadata": {},
   "outputs": [],
   "source": [
    "def init_driver(uri, username, password):\n",
    "    # Create an instance of the driver\n",
    "    current_app.driver = GraphDatabase.driver(uri, auth=(username, password))\n",
    "\n",
    "    # Verify Connectivity\n",
    "    current_app.driver.verify_connectivity()\n",
    "\n",
    "    return current_app.driver"
   ]
  },
  {
   "cell_type": "code",
   "execution_count": null,
   "id": "8090f4d6-cfc3-4589-8f17-ae42d6d60a68",
   "metadata": {},
   "outputs": [],
   "source": []
  },
  {
   "cell_type": "markdown",
   "id": "b88acb1a-35f3-46a2-8f54-ce38b67329d2",
   "metadata": {},
   "source": [
    "## Create Nodes"
   ]
  },
  {
   "cell_type": "code",
   "execution_count": 12,
   "id": "6ec82792-a371-4cde-9d3d-d5f3fc7afc4d",
   "metadata": {},
   "outputs": [],
   "source": [
    "analysis1 = Node(\"Analysis\", confirmed=False, with_output=False)\n",
    "graph.create(analysis1)"
   ]
  },
  {
   "cell_type": "code",
   "execution_count": 18,
   "id": "1350bb08-72fb-4908-b65d-01698fe9a56a",
   "metadata": {},
   "outputs": [],
   "source": [
    "input1 = Node(\"Input\", number='002', create_time=datetime.now())\n",
    "graph.create(input1)"
   ]
  },
  {
   "cell_type": "code",
   "execution_count": null,
   "id": "577344c3-edc6-4563-8064-3d25fbfca89a",
   "metadata": {},
   "outputs": [],
   "source": []
  },
  {
   "cell_type": "code",
   "execution_count": null,
   "id": "2bec4520-7cfa-4484-b99e-aeb07f9da5fc",
   "metadata": {},
   "outputs": [],
   "source": []
  },
  {
   "cell_type": "markdown",
   "id": "120df36a-86e5-4eb2-ab34-6aa5b43d8157",
   "metadata": {},
   "source": [
    "## Create Relationships"
   ]
  },
  {
   "cell_type": "code",
   "execution_count": 20,
   "id": "0f7578d3-7a57-43c4-b8f4-749e192a2b23",
   "metadata": {},
   "outputs": [],
   "source": [
    "graph.create(Relationship(analysis1, \"WITH_INPUT\",input1, window_size=200, step_size=100))"
   ]
  },
  {
   "cell_type": "code",
   "execution_count": null,
   "id": "c42b3602-859a-4bcb-a80f-b3abe888523a",
   "metadata": {},
   "outputs": [],
   "source": []
  },
  {
   "cell_type": "code",
   "execution_count": null,
   "id": "ebef9b31-884f-4a81-bcf6-3ecdb8e4d3c3",
   "metadata": {},
   "outputs": [],
   "source": []
  },
  {
   "cell_type": "markdown",
   "id": "bec829a1-f61e-4d55-9824-1c787a2d292c",
   "metadata": {},
   "source": [
    "## Cypher Magic"
   ]
  },
  {
   "cell_type": "code",
   "execution_count": 22,
   "id": "edce96f6-cd5a-4aa3-bb8f-4eba9ec0ca43",
   "metadata": {},
   "outputs": [],
   "source": [
    "%load_ext cypher\n",
    "%matplotlib inline"
   ]
  },
  {
   "cell_type": "code",
   "execution_count": null,
   "id": "6c7d54f7-d410-448c-8c90-9c6125500ffa",
   "metadata": {},
   "outputs": [],
   "source": [
    "%%cypher\n",
    "MATCH (a:Analysis)-[:WITH_INPUT]->(i:Input)\n",
    "RETURN a.confirmed, i.number, i.create_time\n",
    "LIMIT 3"
   ]
  },
  {
   "cell_type": "code",
   "execution_count": null,
   "id": "396934db-f84c-484d-97d5-7ef8731aa9b9",
   "metadata": {},
   "outputs": [],
   "source": []
  },
  {
   "cell_type": "code",
   "execution_count": null,
   "id": "e87fc0f1-2342-4aef-901e-a191bf7313b2",
   "metadata": {},
   "outputs": [],
   "source": []
  },
  {
   "cell_type": "markdown",
   "id": "194a1252-ca20-426d-ba1e-1f142986da0e",
   "metadata": {},
   "source": [
    "## Queries"
   ]
  },
  {
   "cell_type": "code",
   "execution_count": null,
   "id": "38ecdfa9-4220-4fdb-9796-6e6363e361b7",
   "metadata": {},
   "outputs": [],
   "source": []
  },
  {
   "cell_type": "code",
   "execution_count": null,
   "id": "ec1346a4-1c63-47dc-83b2-8db90d9c10a1",
   "metadata": {},
   "outputs": [],
   "source": []
  },
  {
   "cell_type": "code",
   "execution_count": 21,
   "id": "72225e17-5c4e-440b-89e3-820d037c27a1",
   "metadata": {},
   "outputs": [
    {
     "name": "stdout",
     "output_type": "stream",
     "text": [
      "Collecting ipython-cypher\n",
      "  Downloading ipython-cypher-0.2.6.tar.gz (13 kB)\n",
      "  Preparing metadata (setup.py) ... \u001b[?25ldone\n",
      "\u001b[?25hCollecting neo4jrestclient>=2.1.0\n",
      "  Downloading neo4jrestclient-2.1.1.tar.gz (73 kB)\n",
      "\u001b[2K     \u001b[38;2;114;156;31m━━━━━━━━━━━━━━━━━━━━━━━━━━━━━━━━━━━━━━━\u001b[0m \u001b[32m73.0/73.0 KB\u001b[0m \u001b[31m872.2 kB/s\u001b[0m eta \u001b[36m0:00:00\u001b[0m kB/s\u001b[0m eta \u001b[36m0:00:01\u001b[0m\n",
      "\u001b[?25h  Preparing metadata (setup.py) ... \u001b[?25ldone\n",
      "\u001b[?25hCollecting prettytable\n",
      "  Downloading prettytable-3.7.0-py3-none-any.whl (27 kB)\n",
      "Requirement already satisfied: ipython>=1.0 in /Library/Frameworks/Python.framework/Versions/3.9/lib/python3.9/site-packages (from ipython-cypher) (7.24.1)\n",
      "Requirement already satisfied: backcall in /Library/Frameworks/Python.framework/Versions/3.9/lib/python3.9/site-packages (from ipython>=1.0->ipython-cypher) (0.2.0)\n",
      "Requirement already satisfied: setuptools>=18.5 in /Library/Frameworks/Python.framework/Versions/3.9/lib/python3.9/site-packages (from ipython>=1.0->ipython-cypher) (56.0.0)\n",
      "Requirement already satisfied: pygments in /Library/Frameworks/Python.framework/Versions/3.9/lib/python3.9/site-packages (from ipython>=1.0->ipython-cypher) (2.9.0)\n",
      "Requirement already satisfied: jedi>=0.16 in /Library/Frameworks/Python.framework/Versions/3.9/lib/python3.9/site-packages (from ipython>=1.0->ipython-cypher) (0.18.0)\n",
      "Requirement already satisfied: decorator in /Library/Frameworks/Python.framework/Versions/3.9/lib/python3.9/site-packages (from ipython>=1.0->ipython-cypher) (5.0.9)\n",
      "Requirement already satisfied: traitlets>=4.2 in /Library/Frameworks/Python.framework/Versions/3.9/lib/python3.9/site-packages (from ipython>=1.0->ipython-cypher) (5.0.5)\n",
      "Requirement already satisfied: pickleshare in /Library/Frameworks/Python.framework/Versions/3.9/lib/python3.9/site-packages (from ipython>=1.0->ipython-cypher) (0.7.5)\n",
      "Requirement already satisfied: matplotlib-inline in /Library/Frameworks/Python.framework/Versions/3.9/lib/python3.9/site-packages (from ipython>=1.0->ipython-cypher) (0.1.2)\n",
      "Requirement already satisfied: appnope in /Library/Frameworks/Python.framework/Versions/3.9/lib/python3.9/site-packages (from ipython>=1.0->ipython-cypher) (0.1.2)\n",
      "Requirement already satisfied: prompt-toolkit!=3.0.0,!=3.0.1,<3.1.0,>=2.0.0 in /Library/Frameworks/Python.framework/Versions/3.9/lib/python3.9/site-packages (from ipython>=1.0->ipython-cypher) (3.0.19)\n",
      "Requirement already satisfied: pexpect>4.3 in /Library/Frameworks/Python.framework/Versions/3.9/lib/python3.9/site-packages (from ipython>=1.0->ipython-cypher) (4.8.0)\n",
      "Requirement already satisfied: requests>=2.1.0 in /Library/Frameworks/Python.framework/Versions/3.9/lib/python3.9/site-packages (from neo4jrestclient>=2.1.0->ipython-cypher) (2.25.1)\n",
      "Requirement already satisfied: wcwidth in /Library/Frameworks/Python.framework/Versions/3.9/lib/python3.9/site-packages (from prettytable->ipython-cypher) (0.2.5)\n",
      "Requirement already satisfied: parso<0.9.0,>=0.8.0 in /Library/Frameworks/Python.framework/Versions/3.9/lib/python3.9/site-packages (from jedi>=0.16->ipython>=1.0->ipython-cypher) (0.8.2)\n",
      "Requirement already satisfied: ptyprocess>=0.5 in /Library/Frameworks/Python.framework/Versions/3.9/lib/python3.9/site-packages (from pexpect>4.3->ipython>=1.0->ipython-cypher) (0.7.0)\n",
      "Requirement already satisfied: chardet<5,>=3.0.2 in /Library/Frameworks/Python.framework/Versions/3.9/lib/python3.9/site-packages (from requests>=2.1.0->neo4jrestclient>=2.1.0->ipython-cypher) (4.0.0)\n",
      "Requirement already satisfied: certifi>=2017.4.17 in /Library/Frameworks/Python.framework/Versions/3.9/lib/python3.9/site-packages (from requests>=2.1.0->neo4jrestclient>=2.1.0->ipython-cypher) (2021.5.30)\n",
      "Requirement already satisfied: idna<3,>=2.5 in /Library/Frameworks/Python.framework/Versions/3.9/lib/python3.9/site-packages (from requests>=2.1.0->neo4jrestclient>=2.1.0->ipython-cypher) (2.10)\n",
      "Requirement already satisfied: urllib3<1.27,>=1.21.1 in /Library/Frameworks/Python.framework/Versions/3.9/lib/python3.9/site-packages (from requests>=2.1.0->neo4jrestclient>=2.1.0->ipython-cypher) (1.26.5)\n",
      "Requirement already satisfied: ipython-genutils in /Library/Frameworks/Python.framework/Versions/3.9/lib/python3.9/site-packages (from traitlets>=4.2->ipython>=1.0->ipython-cypher) (0.2.0)\n",
      "Using legacy 'setup.py install' for ipython-cypher, since package 'wheel' is not installed.\n",
      "Using legacy 'setup.py install' for neo4jrestclient, since package 'wheel' is not installed.\n",
      "Installing collected packages: prettytable, neo4jrestclient, ipython-cypher\n",
      "  Running setup.py install for neo4jrestclient ... \u001b[?25ldone\n",
      "\u001b[?25h  Running setup.py install for ipython-cypher ... \u001b[?25ldone\n",
      "\u001b[?25hSuccessfully installed ipython-cypher-0.2.6 neo4jrestclient-2.1.1 prettytable-3.7.0\n",
      "\u001b[33mWARNING: You are using pip version 22.0.4; however, version 23.1.2 is available.\n",
      "You should consider upgrading via the '/usr/local/bin/python3.9 -m pip install --upgrade pip' command.\u001b[0m\u001b[33m\n",
      "\u001b[0mNote: you may need to restart the kernel to use updated packages.\n"
     ]
    }
   ],
   "source": [
    "pip install ipython-cypher"
   ]
  },
  {
   "cell_type": "code",
   "execution_count": null,
   "id": "bb342bab-d7c7-42cf-adc5-eab0751dab5c",
   "metadata": {},
   "outputs": [],
   "source": []
  }
 ],
 "metadata": {
  "kernelspec": {
   "display_name": "PyCharm (forETE)",
   "language": "python",
   "name": "pycharm-1d985800"
  },
  "language_info": {
   "codemirror_mode": {
    "name": "ipython",
    "version": 3
   },
   "file_extension": ".py",
   "mimetype": "text/x-python",
   "name": "python",
   "nbconvert_exporter": "python",
   "pygments_lexer": "ipython3",
   "version": "3.9.5"
  }
 },
 "nbformat": 4,
 "nbformat_minor": 5
}
